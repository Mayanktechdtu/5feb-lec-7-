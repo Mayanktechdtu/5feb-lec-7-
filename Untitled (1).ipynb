{
 "cells": [
  {
   "cell_type": "code",
   "execution_count": 1,
   "id": "28c38fe6-991d-4b98-b2d9-3f2ceadf3a76",
   "metadata": {},
   "outputs": [],
   "source": [
    "#oops"
   ]
  },
  {
   "cell_type": "code",
   "execution_count": 2,
   "id": "24a1ba2a-ab5e-4191-b4a6-106b4da0a59a",
   "metadata": {},
   "outputs": [
    {
     "name": "stdout",
     "output_type": "stream",
     "text": [
      "<class 'int'>\n"
     ]
    }
   ],
   "source": [
    "a=1\n",
    "print(type(a))"
   ]
  },
  {
   "cell_type": "code",
   "execution_count": 3,
   "id": "35c64bf1-b4d0-4cc9-b86f-ad1c75930d77",
   "metadata": {},
   "outputs": [],
   "source": [
    "class test:\n",
    "    pass"
   ]
  },
  {
   "cell_type": "code",
   "execution_count": 4,
   "id": "0df67d64-2aed-4386-b2b9-da13861060e0",
   "metadata": {},
   "outputs": [],
   "source": [
    "a=test()"
   ]
  },
  {
   "cell_type": "code",
   "execution_count": 5,
   "id": "e4669300-145b-48fa-8ddb-0aa00380d87e",
   "metadata": {},
   "outputs": [
    {
     "data": {
      "text/plain": [
       "__main__.test"
      ]
     },
     "execution_count": 5,
     "metadata": {},
     "output_type": "execute_result"
    }
   ],
   "source": [
    "type(a)"
   ]
  },
  {
   "cell_type": "code",
   "execution_count": 6,
   "id": "f78ae585-31e8-4318-a335-bacfb39c9bec",
   "metadata": {},
   "outputs": [
    {
     "name": "stdout",
     "output_type": "stream",
     "text": [
      "<class '__main__.test'>\n"
     ]
    }
   ],
   "source": [
    "print(type(a))"
   ]
  },
  {
   "cell_type": "code",
   "execution_count": 7,
   "id": "f8326827-ee04-4de4-a9dc-4bb7cc066502",
   "metadata": {},
   "outputs": [],
   "source": [
    "class whalestreet:\n",
    "    def welcomemsg():\n",
    "        print(\"welcome traders\")"
   ]
  },
  {
   "cell_type": "code",
   "execution_count": 8,
   "id": "27a511e8-5b93-49b5-8df3-84b30a5c39db",
   "metadata": {},
   "outputs": [],
   "source": [
    "mayank=whalestreet()"
   ]
  },
  {
   "cell_type": "code",
   "execution_count": 9,
   "id": "0c6acea3-ae03-4d55-8096-07cbe413f0be",
   "metadata": {},
   "outputs": [
    {
     "name": "stdout",
     "output_type": "stream",
     "text": [
      "<class '__main__.whalestreet'>\n"
     ]
    }
   ],
   "source": [
    "print(type(mayank))"
   ]
  },
  {
   "cell_type": "code",
   "execution_count": 10,
   "id": "c3ecfc38-9791-4994-95d2-8bc09145d9e4",
   "metadata": {},
   "outputs": [
    {
     "ename": "TypeError",
     "evalue": "whalestreet.welcomemsg() takes 0 positional arguments but 1 was given",
     "output_type": "error",
     "traceback": [
      "\u001b[0;31m---------------------------------------------------------------------------\u001b[0m",
      "\u001b[0;31mTypeError\u001b[0m                                 Traceback (most recent call last)",
      "Cell \u001b[0;32mIn[10], line 1\u001b[0m\n\u001b[0;32m----> 1\u001b[0m \u001b[43mmayank\u001b[49m\u001b[38;5;241;43m.\u001b[39;49m\u001b[43mwelcomemsg\u001b[49m\u001b[43m(\u001b[49m\u001b[43m)\u001b[49m\n",
      "\u001b[0;31mTypeError\u001b[0m: whalestreet.welcomemsg() takes 0 positional arguments but 1 was given"
     ]
    }
   ],
   "source": [
    "mayank.welcomemsg() #becaus u didt mention self"
   ]
  },
  {
   "cell_type": "code",
   "execution_count": 11,
   "id": "cd3c85d2-5e19-4506-acac-e1078b73746f",
   "metadata": {},
   "outputs": [],
   "source": [
    "class whalestreet:\n",
    "    def welcomemsg(self):\n",
    "        print(\"welcome traders\")"
   ]
  },
  {
   "cell_type": "code",
   "execution_count": 16,
   "id": "9d023356-a7d9-40cd-a447-d096a9f6d936",
   "metadata": {},
   "outputs": [],
   "source": [
    "mayank=whalestreet()\n",
    "rohan=whalestreet()"
   ]
  },
  {
   "cell_type": "code",
   "execution_count": 17,
   "id": "1226cc2d-6ad0-4ba5-8392-9b4d8411aa7e",
   "metadata": {},
   "outputs": [
    {
     "name": "stdout",
     "output_type": "stream",
     "text": [
      "welcome traders\n",
      "welcome traders\n"
     ]
    }
   ],
   "source": [
    "mayank.welcomemsg() \n",
    "rohan.welcomemsg()"
   ]
  },
  {
   "cell_type": "code",
   "execution_count": 114,
   "id": "d1598da2-9268-47ed-b4f5-28d3b34dd790",
   "metadata": {},
   "outputs": [],
   "source": [
    "class whales:\n",
    "    \n",
    "    def __init__(self,num,mail,stu_id): #double __\n",
    "        self.num=num\n",
    "        self.mail=mail\n",
    "        self.stu_id=stu_id\n",
    "    def return_details(self):\n",
    "        return self.mail,self.num,self.stu_id #skeleton"
   ]
  },
  {
   "cell_type": "code",
   "execution_count": 115,
   "id": "350f0863-6817-481a-9d70-441c3d24d089",
   "metadata": {},
   "outputs": [
    {
     "ename": "TypeError",
     "evalue": "whales.__init__() missing 3 required positional arguments: 'num', 'mail', and 'stu_id'",
     "output_type": "error",
     "traceback": [
      "\u001b[0;31m---------------------------------------------------------------------------\u001b[0m",
      "\u001b[0;31mTypeError\u001b[0m                                 Traceback (most recent call last)",
      "Cell \u001b[0;32mIn[115], line 1\u001b[0m\n\u001b[0;32m----> 1\u001b[0m mayank\u001b[38;5;241m=\u001b[39m\u001b[43mwhales\u001b[49m\u001b[43m(\u001b[49m\u001b[43m)\u001b[49m \u001b[38;5;66;03m#not provide 3 values which ask in init fuc\u001b[39;00m\n",
      "\u001b[0;31mTypeError\u001b[0m: whales.__init__() missing 3 required positional arguments: 'num', 'mail', and 'stu_id'"
     ]
    }
   ],
   "source": [
    "mayank=whales() #not provide 3 values which ask in init fuc\n"
   ]
  },
  {
   "cell_type": "code",
   "execution_count": 116,
   "id": "91d0c609-ecae-45bb-9d94-a7e1bae46cc1",
   "metadata": {},
   "outputs": [],
   "source": [
    "mayank=whales(325242445,\"mfdmn@gmadil.com\",123)"
   ]
  },
  {
   "cell_type": "code",
   "execution_count": 117,
   "id": "f4831fdc-80d1-4bec-b792-b8db7bbc3fd6",
   "metadata": {},
   "outputs": [
    {
     "data": {
      "text/plain": [
       "('mfdmn@gmadil.com', 325242445, 123)"
      ]
     },
     "execution_count": 117,
     "metadata": {},
     "output_type": "execute_result"
    }
   ],
   "source": [
    "mayank.return_details()"
   ]
  },
  {
   "cell_type": "code",
   "execution_count": 118,
   "id": "7cfd028a-aa61-4342-b768-c2ad1fcbd992",
   "metadata": {},
   "outputs": [
    {
     "data": {
      "text/plain": [
       "325242445"
      ]
     },
     "execution_count": 118,
     "metadata": {},
     "output_type": "execute_result"
    }
   ],
   "source": [
    "mayank.num #associated with self"
   ]
  },
  {
   "cell_type": "code",
   "execution_count": 119,
   "id": "126c5875-7004-4ade-99b2-e3be54c1dddc",
   "metadata": {},
   "outputs": [
    {
     "data": {
      "text/plain": [
       "'mfdmn@gmadil.com'"
      ]
     },
     "execution_count": 119,
     "metadata": {},
     "output_type": "execute_result"
    }
   ],
   "source": [
    "mayank.mail"
   ]
  },
  {
   "cell_type": "code",
   "execution_count": 120,
   "id": "d4fe3b75-c951-4286-93d2-3f5b4f52f669",
   "metadata": {},
   "outputs": [],
   "source": [
    "class whales:\n",
    "    \n",
    "    def __init__(self,num,mail,stu_id): #double __\n",
    "        self.numa=num\n",
    "        self.email=mail\n",
    "        self.stud_id=stu_id\n",
    "    def return_details(self):\n",
    "        return self.email,self.numa,self.stud_id #skeleton"
   ]
  },
  {
   "cell_type": "code",
   "execution_count": 121,
   "id": "cb5d95e7-2e0b-4402-8205-31279d4fac4e",
   "metadata": {},
   "outputs": [],
   "source": [
    "may=whales(1,\"jhjdj@jd.cos\",11132423422)"
   ]
  },
  {
   "cell_type": "code",
   "execution_count": 122,
   "id": "08c8ebbb-077f-4e52-a62b-48da56fb7136",
   "metadata": {},
   "outputs": [
    {
     "data": {
      "text/plain": [
       "('jhjdj@jd.cos', 1, 11132423422)"
      ]
     },
     "execution_count": 122,
     "metadata": {},
     "output_type": "execute_result"
    }
   ],
   "source": [
    "may.return_details()"
   ]
  },
  {
   "cell_type": "code",
   "execution_count": 123,
   "id": "5415849b-f04e-4476-b255-e204870c0edf",
   "metadata": {},
   "outputs": [],
   "source": [
    "class whales:\n",
    "    \n",
    "    def __init__(self,num,mail,stu_id): #double __\n",
    "        self.numa=num\n",
    "        self.email=mail\n",
    "        self.stud_id=stu_id\n",
    "    def return_details(self):\n",
    "        return self.mail,self.num,self.stu_id #skeleton"
   ]
  },
  {
   "cell_type": "code",
   "execution_count": 124,
   "id": "ff9615a7-afde-461f-b05a-a02186eea807",
   "metadata": {},
   "outputs": [],
   "source": [
    "may=whales(1,\"jhjdj@jd.cos\",11132423422)"
   ]
  },
  {
   "cell_type": "code",
   "execution_count": 126,
   "id": "e3f945b4-9612-4f0f-bf44-c7bef9384cf9",
   "metadata": {},
   "outputs": [
    {
     "ename": "AttributeError",
     "evalue": "'whales' object has no attribute 'mail'",
     "output_type": "error",
     "traceback": [
      "\u001b[0;31m---------------------------------------------------------------------------\u001b[0m",
      "\u001b[0;31mAttributeError\u001b[0m                            Traceback (most recent call last)",
      "Cell \u001b[0;32mIn[126], line 1\u001b[0m\n\u001b[0;32m----> 1\u001b[0m \u001b[43mmay\u001b[49m\u001b[38;5;241;43m.\u001b[39;49m\u001b[43mreturn_details\u001b[49m\u001b[43m(\u001b[49m\u001b[43m)\u001b[49m \u001b[38;5;66;03m#because self.numa is diffent than assing value\u001b[39;00m\n",
      "Cell \u001b[0;32mIn[123], line 8\u001b[0m, in \u001b[0;36mwhales.return_details\u001b[0;34m(self)\u001b[0m\n\u001b[1;32m      7\u001b[0m \u001b[38;5;28;01mdef\u001b[39;00m \u001b[38;5;21mreturn_details\u001b[39m(\u001b[38;5;28mself\u001b[39m):\n\u001b[0;32m----> 8\u001b[0m     \u001b[38;5;28;01mreturn\u001b[39;00m \u001b[38;5;28;43mself\u001b[39;49m\u001b[38;5;241;43m.\u001b[39;49m\u001b[43mmail\u001b[49m,\u001b[38;5;28mself\u001b[39m\u001b[38;5;241m.\u001b[39mnum,\u001b[38;5;28mself\u001b[39m\u001b[38;5;241m.\u001b[39mstu_id\n",
      "\u001b[0;31mAttributeError\u001b[0m: 'whales' object has no attribute 'mail'"
     ]
    }
   ],
   "source": [
    "may.return_details() #because self.numa is diffent than assing value"
   ]
  },
  {
   "cell_type": "code",
   "execution_count": null,
   "id": "2656ecaa-039b-4e07-a533-5e2d19c6f6fd",
   "metadata": {},
   "outputs": [],
   "source": []
  }
 ],
 "metadata": {
  "kernelspec": {
   "display_name": "Python 3 (ipykernel)",
   "language": "python",
   "name": "python3"
  },
  "language_info": {
   "codemirror_mode": {
    "name": "ipython",
    "version": 3
   },
   "file_extension": ".py",
   "mimetype": "text/x-python",
   "name": "python",
   "nbconvert_exporter": "python",
   "pygments_lexer": "ipython3",
   "version": "3.10.8"
  }
 },
 "nbformat": 4,
 "nbformat_minor": 5
}
